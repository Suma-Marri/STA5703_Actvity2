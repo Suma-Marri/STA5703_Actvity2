{
 "cells": [
  {
   "cell_type": "code",
   "metadata": {
    "cell_id": "e245fb2c-bdc7-47b6-a56d-146665f0ba7b",
    "tags": [],
    "deepnote_to_be_reexecuted": false,
    "source_hash": "bbfdc22b",
    "execution_start": 1643145085885,
    "execution_millis": 4199,
    "deepnote_output_heights": [
     607
    ],
    "deepnote_cell_type": "code"
   },
   "source": "import pandas as pd\nimport numpy as np\nimport matplotlib.pyplot as plt\nfrom sklearn.metrics import r2_score\nfrom sklearn.metrics import mean_absolute_error\nfrom sklearn.metrics import mean_absolute_percentage_error",
   "outputs": [],
   "execution_count": 9
  },
  {
   "cell_type": "code",
   "metadata": {
    "tags": [],
    "cell_id": "0de5bd19-ecbf-45bf-9c98-fc7467cf7f71",
    "deepnote_to_be_reexecuted": false,
    "source_hash": "bc43aabb",
    "execution_start": 1643144386406,
    "execution_millis": 108,
    "deepnote_cell_type": "code"
   },
   "source": "# 2.1\n# Read the CSV file “House_Prices_PRED.CSV”\nhouse_data_to_load = \"House_Prices_PRED.csv\"\n\nhouse_data_df = pd.read_csv(house_data_to_load)\n\nhouse_data_df.head()",
   "outputs": [
    {
     "output_type": "execute_result",
     "execution_count": 2,
     "data": {
      "application/vnd.deepnote.dataframe.v3+json": {
       "column_count": 3,
       "row_count": 5,
       "columns": [
        {
         "name": "Id",
         "dtype": "int64",
         "stats": {
          "unique_count": 5,
          "nan_count": 0,
          "min": "1",
          "max": "5",
          "histogram": [
           {
            "bin_start": 1,
            "bin_end": 1.4,
            "count": 1
           },
           {
            "bin_start": 1.4,
            "bin_end": 1.8,
            "count": 0
           },
           {
            "bin_start": 1.8,
            "bin_end": 2.2,
            "count": 1
           },
           {
            "bin_start": 2.2,
            "bin_end": 2.6,
            "count": 0
           },
           {
            "bin_start": 2.6,
            "bin_end": 3,
            "count": 0
           },
           {
            "bin_start": 3,
            "bin_end": 3.4000000000000004,
            "count": 1
           },
           {
            "bin_start": 3.4000000000000004,
            "bin_end": 3.8000000000000003,
            "count": 0
           },
           {
            "bin_start": 3.8000000000000003,
            "bin_end": 4.2,
            "count": 1
           },
           {
            "bin_start": 4.2,
            "bin_end": 4.6,
            "count": 0
           },
           {
            "bin_start": 4.6,
            "bin_end": 5,
            "count": 1
           }
          ]
         }
        },
        {
         "name": "P_SalePrice",
         "dtype": "float64",
         "stats": {
          "unique_count": 5,
          "nan_count": 0,
          "min": "161547.6322",
          "max": "272594.2471",
          "histogram": [
           {
            "bin_start": 161547.6322,
            "bin_end": 172652.29369,
            "count": 1
           },
           {
            "bin_start": 172652.29369,
            "bin_end": 183756.95518,
            "count": 1
           },
           {
            "bin_start": 183756.95518,
            "bin_end": 194861.61667,
            "count": 0
           },
           {
            "bin_start": 194861.61667,
            "bin_end": 205966.27816,
            "count": 0
           },
           {
            "bin_start": 205966.27816,
            "bin_end": 217070.93965,
            "count": 1
           },
           {
            "bin_start": 217070.93965,
            "bin_end": 228175.60113999998,
            "count": 1
           },
           {
            "bin_start": 228175.60113999998,
            "bin_end": 239280.26262999998,
            "count": 0
           },
           {
            "bin_start": 239280.26262999998,
            "bin_end": 250384.92411999998,
            "count": 0
           },
           {
            "bin_start": 250384.92411999998,
            "bin_end": 261489.58560999998,
            "count": 0
           },
           {
            "bin_start": 261489.58560999998,
            "bin_end": 272594.2471,
            "count": 1
           }
          ]
         }
        },
        {
         "name": "SalePrice",
         "dtype": "int64",
         "stats": {
          "unique_count": 5,
          "nan_count": 0,
          "min": "140000",
          "max": "250000",
          "histogram": [
           {
            "bin_start": 140000,
            "bin_end": 151000,
            "count": 1
           },
           {
            "bin_start": 151000,
            "bin_end": 162000,
            "count": 0
           },
           {
            "bin_start": 162000,
            "bin_end": 173000,
            "count": 0
           },
           {
            "bin_start": 173000,
            "bin_end": 184000,
            "count": 1
           },
           {
            "bin_start": 184000,
            "bin_end": 195000,
            "count": 0
           },
           {
            "bin_start": 195000,
            "bin_end": 206000,
            "count": 0
           },
           {
            "bin_start": 206000,
            "bin_end": 217000,
            "count": 1
           },
           {
            "bin_start": 217000,
            "bin_end": 228000,
            "count": 1
           },
           {
            "bin_start": 228000,
            "bin_end": 239000,
            "count": 0
           },
           {
            "bin_start": 239000,
            "bin_end": 250000,
            "count": 1
           }
          ]
         }
        },
        {
         "name": "_deepnote_index_column",
         "dtype": "int64"
        }
       ],
       "rows": [
        {
         "Id": 1,
         "P_SalePrice": 206307.736,
         "SalePrice": 208500,
         "_deepnote_index_column": 0
        },
        {
         "Id": 2,
         "P_SalePrice": 179044.5328,
         "SalePrice": 181500,
         "_deepnote_index_column": 1
        },
        {
         "Id": 3,
         "P_SalePrice": 217258.4337,
         "SalePrice": 223500,
         "_deepnote_index_column": 2
        },
        {
         "Id": 4,
         "P_SalePrice": 161547.6322,
         "SalePrice": 140000,
         "_deepnote_index_column": 3
        },
        {
         "Id": 5,
         "P_SalePrice": 272594.2471,
         "SalePrice": 250000,
         "_deepnote_index_column": 4
        }
       ]
      },
      "text/plain": "   Id  P_SalePrice  SalePrice\n0   1  206307.7360     208500\n1   2  179044.5328     181500\n2   3  217258.4337     223500\n3   4  161547.6322     140000\n4   5  272594.2471     250000",
      "text/html": "<div>\n<style scoped>\n    .dataframe tbody tr th:only-of-type {\n        vertical-align: middle;\n    }\n\n    .dataframe tbody tr th {\n        vertical-align: top;\n    }\n\n    .dataframe thead th {\n        text-align: right;\n    }\n</style>\n<table border=\"1\" class=\"dataframe\">\n  <thead>\n    <tr style=\"text-align: right;\">\n      <th></th>\n      <th>Id</th>\n      <th>P_SalePrice</th>\n      <th>SalePrice</th>\n    </tr>\n  </thead>\n  <tbody>\n    <tr>\n      <th>0</th>\n      <td>1</td>\n      <td>206307.7360</td>\n      <td>208500</td>\n    </tr>\n    <tr>\n      <th>1</th>\n      <td>2</td>\n      <td>179044.5328</td>\n      <td>181500</td>\n    </tr>\n    <tr>\n      <th>2</th>\n      <td>3</td>\n      <td>217258.4337</td>\n      <td>223500</td>\n    </tr>\n    <tr>\n      <th>3</th>\n      <td>4</td>\n      <td>161547.6322</td>\n      <td>140000</td>\n    </tr>\n    <tr>\n      <th>4</th>\n      <td>5</td>\n      <td>272594.2471</td>\n      <td>250000</td>\n    </tr>\n  </tbody>\n</table>\n</div>"
     },
     "metadata": {}
    }
   ],
   "execution_count": 2
  },
  {
   "cell_type": "code",
   "source": "# 2.2\n# Calculate the sum squared of error and the average squared error of the Model\n# sum squared of error (SSE)\nSSE = np.sum(np.square(np.subtract(house_data_df.P_SalePrice, house_data_df.SalePrice)))\nprint(\"SSE: {:,}\".format(SSE))\n\n# average squared of error (MSE)\nMSE = np.square(np.subtract(house_data_df.SalePrice, house_data_df.P_SalePrice)).mean()\nprint(\"MSE: {:,}\".format(MSE))",
   "metadata": {
    "cell_id": "e27a1331-0bd0-416c-ad07-e013e4e2fb1d",
    "tags": [],
    "deepnote_to_be_reexecuted": false,
    "source_hash": "7ae39a78",
    "execution_start": 1643144386506,
    "execution_millis": 9,
    "deepnote_output_heights": [
     193.875,
     155.5
    ],
    "deepnote_cell_type": "code"
   },
   "outputs": [
    {
     "name": "stdout",
     "text": "SSE: 740,014,639,177.1643\nMSE: 506,859,341.9021673\n",
     "output_type": "stream"
    }
   ],
   "execution_count": 3
  },
  {
   "cell_type": "code",
   "source": "# 2.3\n# calculate the R^2 of the Model\nr2 = r2_score(house_data_df.SalePrice, house_data_df.P_SalePrice)\nprint(\"R^2: {:.5}\".format(r2))",
   "metadata": {
    "cell_id": "06ae2667-83a0-4832-801d-3c12be0dae73",
    "tags": [],
    "deepnote_to_be_reexecuted": false,
    "source_hash": "1381695c",
    "execution_start": 1643144386507,
    "execution_millis": 8,
    "deepnote_cell_type": "code"
   },
   "outputs": [
    {
     "name": "stdout",
     "text": "R^2: 0.91963\n",
     "output_type": "stream"
    }
   ],
   "execution_count": 4
  },
  {
   "cell_type": "code",
   "source": "# 2.4\n# calculate the MAPE of the Model\nmape = mean_absolute_percentage_error(house_data_df.SalePrice, house_data_df.P_SalePrice)\nprint(\"MAPE: {:.5}\".format(mape))",
   "metadata": {
    "cell_id": "148d88d3-38ee-4c29-a3a4-f2645fd0f60a",
    "tags": [],
    "deepnote_to_be_reexecuted": false,
    "source_hash": "7b012a59",
    "execution_start": 1643144386508,
    "execution_millis": 0,
    "deepnote_cell_type": "code"
   },
   "outputs": [
    {
     "name": "stdout",
     "text": "MAPE: 0.070264\n",
     "output_type": "stream"
    }
   ],
   "execution_count": 5
  },
  {
   "cell_type": "code",
   "metadata": {
    "cell_id": "9e232643-cabc-48b5-a531-4bf1a2924e64",
    "tags": [],
    "deepnote_to_be_reexecuted": false,
    "source_hash": "800a9235",
    "execution_start": 1643144386509,
    "execution_millis": 6,
    "deepnote_cell_type": "code"
   },
   "source": "# 2.5\n# calculate the MAE (Mean absolute error) of the Model\nmae = mean_absolute_error(house_data_df.SalePrice, house_data_df.P_SalePrice)\nprint(\"MAE: {:,}\".format(mae))",
   "outputs": [
    {
     "name": "stdout",
     "text": "MAE: 12,470.833673842466\n",
     "output_type": "stream"
    }
   ],
   "execution_count": 6
  },
  {
   "cell_type": "code",
   "source": "# 2.6\n# produce a residual plot with residual on the Y-axis and observed value\n# loading dataset\n\ndata = sns.load_dataset(\"SalePrice\")\n  \n# draw residplot\nsns.residplot(house_data_df.SalePrice = \"SalePrice\",\n              house_data_df.P_SalePrice = \"SalePrice_Predicted\",\n              data = house_data_df\n              )\n  \n# show the plot\nplt.show()",
   "metadata": {
    "cell_id": "7e96181f-800e-4ac7-98c8-b5c1176456ff",
    "tags": [],
    "deepnote_to_be_reexecuted": false,
    "source_hash": "25e844fc",
    "execution_start": 1643146173629,
    "execution_millis": 9,
    "deepnote_cell_type": "code"
   },
   "outputs": [
    {
     "output_type": "error",
     "ename": "SyntaxError",
     "evalue": "keyword can't be an expression (<ipython-input-20-185e62e81e26>, line 8)",
     "traceback": [
      "\u001b[0;36m  File \u001b[0;32m\"<ipython-input-20-185e62e81e26>\"\u001b[0;36m, line \u001b[0;32m8\u001b[0m\n\u001b[0;31m    sns.residplot(house_data_df.SalePrice = \"SalePrice\",\u001b[0m\n\u001b[0m                 ^\u001b[0m\n\u001b[0;31mSyntaxError\u001b[0m\u001b[0;31m:\u001b[0m keyword can't be an expression\n"
     ]
    }
   ],
   "execution_count": 20
  },
  {
   "cell_type": "markdown",
   "source": "<a style='text-decoration:none;line-height:16px;display:flex;color:#5B5B62;padding:10px;justify-content:end;' href='https://deepnote.com?utm_source=created-in-deepnote-cell&projectId=282ec5e9-b839-42d5-a6b1-531b3e403197' target=\"_blank\">\n<img alt='Created in deepnote.com' style='display:inline;max-height:16px;margin:0px;margin-right:7.5px;' src='data:image/svg+xml;base64,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' > </img>\nCreated in <span style='font-weight:600;margin-left:4px;'>Deepnote</span></a>",
   "metadata": {
    "tags": [],
    "created_in_deepnote_cell": true,
    "deepnote_cell_type": "markdown"
   }
  }
 ],
 "nbformat": 4,
 "nbformat_minor": 2,
 "metadata": {
  "orig_nbformat": 2,
  "deepnote": {
   "is_reactive": false
  },
  "deepnote_notebook_id": "e5d54e7c-a019-489f-a1f1-9bf8da91f7cd",
  "deepnote_execution_queue": []
 }
}